{
  "cells": [
    {
      "cell_type": "markdown",
      "metadata": {
        "id": "6DjNbXa-VC9M"
      },
      "source": [
        "<h1 align=\"center\">Mathematical Methods In Engineering - 25872</h1>\n",
        "<h4 align=\"center\">Dr. Amiri</h4>\n",
        "<h4 align=\"center\">Sharif University of Technology, Fall 2023</h4>\n",
        "<h4 align=\"center\">Python Assignment 1</h4>\n",
        "<h4 align=\"center\">feel free to ask your questions via telegram,\n",
        "\n",
        "questions 1,4 : @BeNameBalasari and questions 2,3,5 : @maahmoradi"
      ]
    },
    {
      "cell_type": "markdown",
      "metadata": {
        "id": "JQFRcXkblM7M"
      },
      "source": [
        "You should write your code in the <font color='green'>Code Cell</font> and then run the <font color='green'>Evaluation Cell</font> to check the output of your code.<br>\n",
        "<font color='red'>**Please do not edit the existing codes.**</font>"
      ]
    },
    {
      "cell_type": "markdown",
      "metadata": {
        "id": "bggG3YqIVC9U"
      },
      "source": [
        "## 1. Introduction to matrices\n",
        "In this question, we want to get familiar with performing simple matrix operations and obtaining special features of matrices in Python <br>\n",
        "#### 1-1-  Vector P-Norm\n",
        " Let $p\\geq 1$  be  a real   number . The  p-norm ( also called\n",
        "$\\ell ^{p}$-norm) of  vector\n",
        "${\\displaystyle \\mathbf {x} =(x_{1},\\ldots ,x_{n})}$  is :\n",
        "${\\displaystyle \\|\\mathbf {x} \\|_{p}:=\\left(\\sum _{i=1}^{n}\\left|x_{i}\\right|^{p}\\right)^{1/p}}$ and\n",
        "${\\displaystyle \\|\\mathbf {x} \\|_{\\infty}:=max(|x_1| , |x_2| , \\cdots ,|x_n|)}$\n",
        "> Write a function that takes a vector and p as input and gives p-norm as output then use it to calculate the norm-3 of the  following vector ( if the p is np.inf the function should give the infinity norm of the matrix ) :\n",
        "$$\n",
        "x = \\left(\\begin{array}{cc}\n",
        "-3.0\\\\ 1.0 \\\\2.0\n",
        "\\end{array}\\right)\n",
        "$$\n",
        "> then use np.linalg.norm to check your answer"
      ]
    },
    {
      "cell_type": "code",
      "execution_count": 1,
      "metadata": {
        "id": "9_mgN5QvlM7N"
      },
      "outputs": [],
      "source": [
        "# import required packages\n",
        "import numpy as np\n",
        "import matplotlib.pyplot as plt\n",
        "import math"
      ]
    },
    {
      "cell_type": "code",
      "execution_count": 2,
      "metadata": {
        "colab": {
          "base_uri": "https://localhost:8080/"
        },
        "id": "ZzFnxtOIVC9W",
        "outputId": "6dcf9833-b81c-41b9-88e5-91a964166bbd"
      },
      "outputs": [
        {
          "output_type": "stream",
          "name": "stdout",
          "text": [
            "(pnorm V.S np norm p=1) : 6.0 vs 6.0\n",
            "(pnorm V.S np norm p=2) : 3.7416573867739413 vs 3.7416573867739413\n",
            "(pnorm V.S np norm p=3) : 3.3019272488946263 vs 3.3019272488946263\n",
            "(pnorm V.S np norm p=inf) : 3 vs 3.0\n"
          ]
        }
      ],
      "source": [
        "def pnorm(x, p):\n",
        "    if(p==np.inf):\n",
        "      return max([abs(element) for element in x])\n",
        "\n",
        "    else:\n",
        "      x = [abs(element)**p for element in x]\n",
        "      p_norm = sum(x)**(1/p)\n",
        "      return p_norm\n",
        "\n",
        "\n",
        "# you can change the upper bound to check more numbers\n",
        "x = [-3, 1, 2]\n",
        "ubound = 5\n",
        "for i in range(1,ubound):\n",
        "  p = i\n",
        "  if(i==ubound-1): p = np.inf\n",
        "  print(f'(pnorm V.S np norm p={p}) : {pnorm(x,p)} vs {np.linalg.norm(x,p)}')"
      ]
    },
    {
      "cell_type": "markdown",
      "metadata": {
        "id": "Mlu0O_JPlM7O"
      },
      "source": [
        "#### 1-2- Matrix Norm\n",
        " The\n",
        " operator  norm of matrix $ \\mathbf{A}  $ is :\n",
        "${\\displaystyle \\|\\mathbf {A} \\|:=\\max\\limits_{x\\neq 0}\\left(\\frac{||Ax||}{||x||}\\right)}$\n",
        "\n",
        "and  The Frobenius  norm  is defined  so\n",
        "that   for  every  square  matrix $ \\mathbf{A} $ : ${\\displaystyle \\|\\mathbf {A} \\|_F:=\\left(\\sum_{i,j=1}^{n}(|a_{ij}|^2)\\right)^\\frac{1}{2}}$\n",
        "\n",
        "> Write a function that takes a Matrix  as input and gives frobenius norm as output then use it to calculate the norm of the  following Matrix :\n",
        "$$\n",
        "A = \\begin{bmatrix}\n",
        "    7 & 5 & 1\\\\\n",
        "    1 & 7 & 1\\\\\n",
        "    5 & 5 & 7\n",
        "\\end{bmatrix}\n",
        "$$\n",
        "> then use np.linalg.norm to check your answer and use it to calculate the operator norm of A"
      ]
    },
    {
      "cell_type": "code",
      "execution_count": 3,
      "metadata": {
        "colab": {
          "base_uri": "https://localhost:8080/"
        },
        "id": "NrGE4WlRlM7P",
        "outputId": "77c23ccf-92e2-45e7-ff94-7664713c1177"
      },
      "outputs": [
        {
          "output_type": "stream",
          "name": "stdout",
          "text": [
            "(fnorm V.S np norm) : 15.0 vs 15.0\n"
          ]
        }
      ],
      "source": [
        "def fnorm(A):\n",
        "    return sum([abs(element)**2 for row in A for element in row])**0.5\n",
        "\n",
        "\n",
        "A = [[7, 5, 1],\n",
        "     [1, 7, 1],\n",
        "     [5, 5, 7]]\n",
        "\n",
        "print(f'(fnorm V.S np norm) : {fnorm(A)} vs {np.linalg.norm(A)}')\n"
      ]
    },
    {
      "cell_type": "markdown",
      "metadata": {
        "id": "9ZQPHI6plM7P"
      },
      "source": [
        "#### 1-3- Matrix Determinant And Matrix inverse\n",
        "Laplace expansion expresses the determinant of a matrix\n",
        "A recursively in terms of determinants of smaller matrices, known as its minors. The minor\n",
        ", $M_{i,j}$ is defined to be the determinant of the\n",
        "${\\displaystyle (n-1)\\times (n-1)}$ matrix that results from\n",
        "A by removing the\n",
        "i-th row and the\n",
        "j-th column. The expression\n",
        "${\\displaystyle (-1)^{i+j}M_{i,j}}$  is known as a cofactor. For every\n",
        "i, one has the equality :\n",
        "$$\n",
        "det(\\mathbf{A})=\\sum_{j=1}^n\\left((-1)^{i+j}a_{ij}M_{ij}\\right)\n",
        "$$\n",
        "> Write a function that takes a Matrix  as input and gives Determinant as output then use it to calculate the Determinant of the  following Matrix :\n",
        "$$\n",
        "A = \\begin{bmatrix}\n",
        "    7 & 5 & 1\\\\\n",
        "    1 & 7 & 1\\\\\n",
        "    5 & 5 & 7\n",
        "\\end{bmatrix}\n",
        "$$\n",
        "> then use np.linalg.det to check your answer"
      ]
    },
    {
      "cell_type": "code",
      "execution_count": 4,
      "metadata": {
        "colab": {
          "base_uri": "https://localhost:8080/"
        },
        "id": "HxkJEwP-lM7Q",
        "outputId": "5dbd349d-c8fe-4667-fd0a-b0939bdbd69d"
      },
      "outputs": [
        {
          "output_type": "stream",
          "name": "stdout",
          "text": [
            "(manual det V.S np det) : 268 vs 267.99999999999994\n"
          ]
        }
      ],
      "source": [
        "# As we may need to calculate the det of a sub-matrix in\n",
        "# some parts, it's wiser to implement a recursive function.\n",
        "\n",
        "def det(A):\n",
        "    A = np.array(A)\n",
        "\n",
        "    if len(A)==2:\n",
        "      return A[0][0]*A[1][1] - A[0][1]*A[1][0]\n",
        "\n",
        "    else:\n",
        "      sum = 0\n",
        "      for i in range(len(A)):\n",
        "        M = np.delete(A,0,0)\n",
        "        M = np.delete(M,i,1)\n",
        "        sum += (-1)**i * A[0][i] * det(M)\n",
        "\n",
        "      return sum\n",
        "\n",
        "\n",
        "A = [[7, 5, 1],\n",
        "     [1, 7, 1],\n",
        "     [5, 5, 7]]\n",
        "\n",
        "print(f'(manual det V.S np det) : {det(A)} vs {np.linalg.det(A)}')"
      ]
    },
    {
      "cell_type": "markdown",
      "metadata": {
        "id": "zSQ5GfLBlM7Q"
      },
      "source": [
        "The inverse of a Matrix is defined as :\n",
        "$$\n",
        "\\mathbf{A}^{-1}=\\frac{adj(A)}{det(A)}\n",
        "$$\n",
        "The adjugate of $\\mathbf{A} \\ adj(\\mathbf{A})$ is the transpose of $\\mathbf{C}$, that is, the n × n matrix whose (i, j) entry is the (j, i) cofactor of A,\n",
        "$$\n",
        "adj(\\mathbf{A})=\\mathbf{C}^T=\\left((-1)^{i+j}M_{ji}\\right)_{1 \\leq i,j \\leq n}\n",
        "$$\n",
        "> Write a function that takes a Matrix  as input and gives inverse of Matrix as output then use it to calculate the inverse of the  following Matrix :\n",
        "$$\n",
        "A = \\begin{bmatrix}\n",
        "    7 & 5 & 1\\\\\n",
        "    1 & 7 & 1\\\\\n",
        "    5 & 5 & 7\n",
        "\\end{bmatrix}\n",
        "$$\n",
        "> then use np.linalg.inv to check your answer"
      ]
    },
    {
      "cell_type": "code",
      "execution_count": 5,
      "metadata": {
        "colab": {
          "base_uri": "https://localhost:8080/"
        },
        "id": "Fv4HUVwklM7R",
        "outputId": "44e2a3c8-9214-482f-a69f-f6260b22aefc"
      },
      "outputs": [
        {
          "output_type": "stream",
          "name": "stdout",
          "text": [
            "manual inv:\n",
            "\n",
            "[[ 0.1641791  -0.1119403  -0.00746269]\n",
            " [ 0.00746269 -0.1641791   0.02238806]\n",
            " [-0.1119403  -0.03731343  0.1641791 ]]\n",
            "\n",
            "======================\n",
            "\n",
            "np inv:\n",
            "\n",
            "[[ 0.1641791  -0.1119403  -0.00746269]\n",
            " [-0.00746269  0.1641791  -0.02238806]\n",
            " [-0.1119403  -0.03731343  0.1641791 ]]\n"
          ]
        }
      ],
      "source": [
        "def inv(A):\n",
        "    A = np.array(A)\n",
        "    C = np.zeros([len(A),len(A)])\n",
        "\n",
        "    for i in range(len(A)):\n",
        "      for j in range(len(A)):\n",
        "        M = np.delete(A,i,0)\n",
        "        M = np.delete(M,j,1)\n",
        "        C[i][j] = (-1)**i * det(M)\n",
        "\n",
        "    return (np.transpose(C)/det(A))\n",
        "\n",
        "\n",
        "A = [[7, 5, 1],\n",
        "     [1, 7, 1],\n",
        "     [5, 5, 7]]\n",
        "\n",
        "print(\"manual inv:\\n\")\n",
        "print(inv(A))\n",
        "\n",
        "print(\"\\n======================\\n\")\n",
        "\n",
        "print(\"np inv:\\n\")\n",
        "print(np.linalg.inv(A))"
      ]
    },
    {
      "cell_type": "markdown",
      "metadata": {
        "id": "ea_pxl6LlM7R"
      },
      "source": [
        "## 2. Gauss-Jordan elimination\n",
        "#### 2-1-  Implementation\n",
        "The Gauss-Jordan Elimination method is an algorithm to solve a linear system of equations. This method solves the system by representing it as an augmented matrix, reducing it using row operations, and expressing the system in reduced row-echelon form to find the values of the variables. \\\n",
        "The function gauss_jordan_elimination takes two arguments: the matrix A representing the coefficients of the equations, and the vector b representing the constants on the right-hand side of the equations. It sets flag to 1 and returns the solution vector x if exists, else sets flag to 0 in case of 'No Solution' or 'Infinite Solutions' and prints the corresponding case.\n",
        "\n",
        "Here's an example of a system of equations $\\textbf{Ax = b}$\n",
        "\n",
        "the inputs of the function :\n",
        "\n",
        "$$\n",
        "A = \\begin{bmatrix}\n",
        "    2  & 1  & 5 \\\\\n",
        "    4  & 4  & -4 \\\\\n",
        "    1 & 3 & 1\n",
        "\\end{bmatrix}\n",
        "$$\n",
        "\n",
        "$$\n",
        "b = \\begin{bmatrix}\n",
        "    8  \\\\\n",
        "    4  \\\\\n",
        "    5\n",
        "\\end{bmatrix}\n",
        "$$\n",
        "\n",
        "the corresponding output :\n",
        "\n",
        "$$\n",
        "x = \\begin{bmatrix}\n",
        "    1  \\\\\n",
        "    1  \\\\\n",
        "    1\n",
        "\\end{bmatrix}\n",
        "$$"
      ]
    },
    {
      "cell_type": "code",
      "execution_count": 6,
      "metadata": {
        "id": "XbgxG9rHlM7R"
      },
      "outputs": [],
      "source": [
        "# import required packages\n",
        "import numpy as np\n",
        "import time"
      ]
    },
    {
      "cell_type": "code",
      "execution_count": 75,
      "metadata": {
        "colab": {
          "base_uri": "https://localhost:8080/"
        },
        "id": "eVjleVgVlM7S",
        "outputId": "e23556c0-1b3d-498e-9b83-b798116a98d7"
      },
      "outputs": [
        {
          "output_type": "stream",
          "name": "stdout",
          "text": [
            "[1. 1. 1.] , flag=1\n"
          ]
        }
      ],
      "source": [
        "def gauss_jordan_elimination(A, b):\n",
        "  A = np.array(A)\n",
        "  b = np.array(b).reshape(len(b),1)            #transposing b to be able to concate it with A\n",
        "  aug_mat = np.concatenate((A,b) , axis = 1)\n",
        "  aug_mat = T_sort(aug_mat)                    #sorting rows if they're scrambled at the beginning\n",
        "\n",
        "  pivot = 0\n",
        "\n",
        "  # finding the pivot\n",
        "  for pivot_row in range(len(aug_mat) - 1) :\n",
        "    pivot = next((num for num in aug_mat[pivot_row] if num != 0), None)\n",
        "\n",
        "    # making E matrix\n",
        "    E = np.identity(len(aug_mat))\n",
        "    for multi_row in range(pivot_row + 1 , len(aug_mat)):\n",
        "      multiplier = -aug_mat[multi_row][pivot_row] / pivot\n",
        "      E[multi_row][pivot_row] = multiplier\n",
        "\n",
        "    # multipling E from left to aug_mat\n",
        "    # making numbers really really close to 0, zero, as they were suppose to be, but weren't beacause of limited precision\n",
        "    # sorting the aug_mat if any rows need to be swapped\n",
        "    aug_mat = np.dot(E,aug_mat)\n",
        "    aug_mat = fully_zero_check(aug_mat)\n",
        "    aug_mat = T_sort(aug_mat)\n",
        "\n",
        "    #checking if we encountered No/infinite solution(s) to either end the program or not\n",
        "    check_code = noXinfinite_answer(aug_mat)\n",
        "    if check_code==0:\n",
        "      return \"No Solution\", 0\n",
        "    elif check_code:\n",
        "      return \"Infinite Solutions\", 0\n",
        "\n",
        "\n",
        "\n",
        "  # Back Substitution :\n",
        "  for pivot_row in reversed(range( 0 , len(aug_mat))) :\n",
        "    pivot = aug_mat[pivot_row][pivot_row]\n",
        "    E = np.identity(len(aug_mat))\n",
        "    for multi_row in reversed(range( 0 , pivot_row)):\n",
        "      multiplier = -aug_mat[multi_row][pivot_row] / pivot\n",
        "      E[multi_row][pivot_row] = multiplier\n",
        "\n",
        "\n",
        "    aug_mat = np.dot(E,aug_mat)\n",
        "    aug_mat[pivot_row] /= aug_mat[pivot_row][pivot_row]\n",
        "\n",
        "\n",
        "\n",
        "\n",
        "  return aug_mat[:,-1], 1\n",
        "\n",
        "\n",
        "\n",
        "# first we count number of starting zeros in each lane then we sort matrix according to the args\n",
        "def T_sort(matrix):\n",
        "\n",
        "  matrix = np.array(matrix)\n",
        "  count = np.zeros(len(matrix), dtype=int)\n",
        "  for row in range(len(matrix)):\n",
        "    for element in range(len(matrix)):\n",
        "      if(matrix[row][element]==0):\n",
        "        count[row] += 1\n",
        "      else:\n",
        "        break\n",
        "\n",
        "  arrangement = np.argsort(count)\n",
        "  matrix = matrix[arrangement]\n",
        "  return matrix\n",
        "\n",
        "\n",
        "\n",
        "# if we have a row filled with 0 except the last element, we have no solution as 0=sth is invalid\n",
        "# if we have a row filled with 0, we have infinite solutions as it means the equations are linearly dependent\n",
        "def noXinfinite_answer(matrix):\n",
        "  matrix = np.array(matrix)\n",
        "  for row in matrix:\n",
        "    if(np.sum(row == 0) == len(matrix)):\n",
        "      return 0\n",
        "    elif(np.sum(row == 0) == len(matrix)+1):\n",
        "      return 1\n",
        "\n",
        "\n",
        "# due to the limit of calculation precision we have to make numbers close to zero, equal to 0\n",
        "def fully_zero_check(matrix):\n",
        "  matrix = np.array(matrix)\n",
        "  for i in range(matrix.shape[0]):\n",
        "    for j in range(matrix.shape[1]):\n",
        "      if abs(matrix[i][j])<1e-5:\n",
        "        matrix[i][j] = 0\n",
        "\n",
        "  return matrix\n",
        "\n",
        "\n",
        "\n",
        "A = [[2,1,5],\n",
        "     [4,4,-4],\n",
        "     [1,3,1]]\n",
        "\n",
        "\n",
        "b = [8,4,5]\n",
        "\n",
        "\n",
        "x,flag = gauss_jordan_elimination(A,b)\n",
        "print(f'{x} , flag={flag}')\n"
      ]
    },
    {
      "cell_type": "code",
      "execution_count": 240,
      "metadata": {
        "colab": {
          "base_uri": "https://localhost:8080/"
        },
        "id": "GaSlLCihlM7S",
        "outputId": "bfad1afa-490a-4f89-974c-9c0ba0b00365"
      },
      "outputs": [
        {
          "output_type": "stream",
          "name": "stdout",
          "text": [
            "status: successful, time elapsed: 6e-05 seconds\n",
            "status: successful, time elapsed: 4e-05 seconds\n"
          ]
        }
      ],
      "source": [
        "# Evaluation Cell\n",
        "n = 10\n",
        "A = np.zeros((10,10))\n",
        "b = np.random.randint(100, size=(10))\n",
        "while np.linalg.matrix_rank(A) != n:\n",
        "  A = np.random.randint(0,100,(n, n))\n",
        "s = time.time()\n",
        "elapsed = time.time() - s\n",
        "x, flag = gauss_jordan_elimination(A,b)\n",
        "assert flag == 1, \"flag's not set correctly\"\n",
        "assert np.linalg.norm(A @ x - b) < 1e-7, \"Ax = b is not satisfied\"\n",
        "print(f'status: successful, time elapsed: {np.round(elapsed, 5)} seconds')\n",
        "b = np.random.randint(100, size=(10))\n",
        "A = np.random.randint(0, 100, (n, n))\n",
        "U, S, V = np.linalg.svd(A)\n",
        "r = 9\n",
        "S[r:] = 0\n",
        "A = U.dot(np.diag(S)).dot(V)\n",
        "b = np.random.randint(100, size=(10))\n",
        "s = time.time()\n",
        "elapsed = time.time() - s\n",
        "x, flag = gauss_jordan_elimination(A,b)\n",
        "assert flag == 0, \"flag's not set correctly\"\n",
        "print(f'status: successful, time elapsed: {np.round(elapsed, 5)} seconds')"
      ]
    },
    {
      "cell_type": "markdown",
      "metadata": {
        "id": "LZ3alLrFlM7S"
      },
      "source": [
        "## 3. Statistics on random matrices\n",
        "\n",
        "On average, a random matrix is invertible. But what if the random matrix has entries that are either 0 or 1 with equal probability? What is the probability that a 5 by 5 matrix whose entries are all zeros or ones is singular? And what is the average number of pivot columns? That is what you will find out in this exercise.\n",
        "\n",
        "Create random integer matrices whose entries are either 0 or 1. To find the number of pivot columns of a matrix A, complete the function getrank below.\n"
      ]
    },
    {
      "cell_type": "code",
      "execution_count": 105,
      "metadata": {
        "id": "GQZZ0D02lM7S"
      },
      "outputs": [],
      "source": [
        "def getrank(A):\n",
        "\n",
        "  A = np.array(A)\n",
        "  A = T_sort(A)\n",
        "  pivot = 0\n",
        "\n",
        "  for pivot_row in range(len(A) - 1) :\n",
        "    pivot = next((num for num in A[pivot_row] if num != 0), None)\n",
        "    if(pivot!=None):\n",
        "      #print(f\"pivot = {pivot}\")\n",
        "      pivot_index = np.where(A[pivot_row]==pivot)[0]\n",
        "      #print(f\"pivot is : {pivot} with index of {pivot_index}\")\n",
        "      E = np.identity(len(A))\n",
        "      for multi_row in range(pivot_row + 1 , len(A)):\n",
        "        multiplier = -A[multi_row][pivot_index[0]] / pivot\n",
        "        E[multi_row][pivot_row] = multiplier\n",
        "\n",
        "      A = np.dot(E,A)\n",
        "      A = fully_zero_check(A)\n",
        "      A = T_sort(A)\n",
        "\n",
        "\n",
        "  return zero_row_count(A)\n",
        "\n",
        "\n",
        "\n",
        "def zero_row_count(matrix):\n",
        "    Zrow_count = 0\n",
        "    zero_row = np.zeros(len(matrix))\n",
        "    for row in reversed(range(len(matrix))):\n",
        "      if all(matrix[row] == zero_row):\n",
        "        Zrow_count +=1\n",
        "      else:\n",
        "        break;\n",
        "\n",
        "\n",
        "    return len(matrix) - Zrow_count\n"
      ]
    },
    {
      "cell_type": "code",
      "execution_count": 126,
      "metadata": {
        "colab": {
          "base_uri": "https://localhost:8080/"
        },
        "id": "NsKYRmEAlM7S",
        "outputId": "f577edc3-76a7-4066-dbe1-edc14cef24ab"
      },
      "outputs": [
        {
          "output_type": "stream",
          "name": "stdout",
          "text": [
            "In 100000 tests we got these results : \n",
            "Avg rank(number of pivots) , singularity probability(%):\n",
            "========================================================\n",
            "n = 5 : (4.3, 63.0)\n",
            "n = 10 : (9.7, 29.8)\n"
          ]
        }
      ],
      "source": [
        "#=====================================================#\n",
        "# This one may take a coupla minutes, as it iterates  #\n",
        "#              too many times(100000)                 #\n",
        "#                                                     #\n",
        "# I've ran it so you check results but feel free to   #\n",
        "#              run it youself aswell !                #\n",
        "#=====================================================#\n",
        "\n",
        "def test(n,num):\n",
        "  ranks = []\n",
        "  singular_count = 0\n",
        "  A = np.zeros((n,n))\n",
        "\n",
        "  for i in range(num):\n",
        "    A = np.random.randint(0,2,(n, n))\n",
        "    rank = getrank(A)\n",
        "    ranks.append(rank)\n",
        "    if (rank!=len(A)):\n",
        "      singular_count += 1\n",
        "\n",
        "\n",
        "\n",
        "  avg_rank = round(np.mean(ranks) , 1)\n",
        "  singular_probability = round(singular_count/num * 100.0 , 1)\n",
        "\n",
        "  return avg_rank, singular_probability\n",
        "\n",
        "\n",
        "\n",
        "\n",
        "num = 100000;  # Number of random trials\n",
        "n = 5  # Size of matrix\n",
        "\n",
        "print(f\"In {num} tests we got these results : \")\n",
        "print(\"Avg rank(number of pivots) , singularity probability(%):\")\n",
        "print(\"========================================================\")\n",
        "print(f\"n = {n} :\" ,end=\" \")\n",
        "print( test(n,num) )\n",
        "print(f\"n = {10} :\" ,end=\" \")\n",
        "print( test(10,num) )\n",
        "\n",
        "\n",
        "# (avg number of pivots, probability of being singular)\n",
        "# in the format [a.b,c.d] where you rounded the answer to one decimal place."
      ]
    },
    {
      "cell_type": "markdown",
      "metadata": {
        "id": "9oI1UkOklM7T"
      },
      "source": [
        "We've looked at random matrices whose entries are 0 or 1. But how does size effect the rank and the probability of being singular? Repeat the previous exercise for 10 by 10 matrices with entries that are 0 or 1.\n",
        "\n",
        "Explore and plot the probability of singularity and the average number of pivots for different sizes of random matrices. Can you determine how this probability depends on the size of the matrix? You might try to find the probability of a 10 by 10 random matrix with entries 0 or 1 has rank 10, 9, 8, 7 etc. You can check your probabilities against the expected value to see if your probabilities match your observations. You might try to connect these probabilities with determinant formulas to see if you can predict the numbers from other formulas and prove a relationship. Happy explorations!\n",
        "\n",
        " guess what happens as $n \\rightarrow \\infty $\n",
        ", but only run up to 80"
      ]
    },
    {
      "cell_type": "code",
      "execution_count": 134,
      "metadata": {
        "colab": {
          "base_uri": "https://localhost:8080/",
          "height": 576
        },
        "id": "XkLchTKMlM7T",
        "outputId": "8ebb9346-4e47-4da2-ee3e-7370bc8f09da"
      },
      "outputs": [
        {
          "output_type": "stream",
          "name": "stdout",
          "text": [
            "In 500 tests we got these results : \n",
            "n = 5 : (4.3, 62.0)\n",
            "n = 10 : (9.7, 32.0)\n",
            "n = 20 : (20.0, 0.2)\n",
            "n = 40 : (40.0, 0.0)\n",
            "n = 80 : (80.0, 0.0)\n"
          ]
        },
        {
          "output_type": "display_data",
          "data": {
            "text/plain": [
              "<Figure size 640x480 with 1 Axes>"
            ],
            "image/png": "[encoded data removed]"
          },
          "metadata": {}
        }
      ],
      "source": [
        "#=====================================================#\n",
        "# This one may take a coupla minutes, as it involves  #\n",
        "#       larger calculations specially on n = 80       #\n",
        "#                                                     #\n",
        "# I've ran it so you check results but feel free to   #\n",
        "#              run it youself aswell !                #\n",
        "#=====================================================#\n",
        "import matplotlib.pyplot as plt\n",
        "\n",
        "\n",
        "nvalues = [5,10,20,40,80]\n",
        "percents = []\n",
        "num = 500\n",
        "\n",
        "\n",
        "print(f\"In {num} tests we got these results : \")\n",
        "for i,n in enumerate(nvalues) :\n",
        "  percents.append(test(n,num))\n",
        "  print(f\"n = {n} : {percents[i]}\")\n",
        "\n",
        "plt.plot(nvalues,percents, marker='o')\n",
        "plt.xlabel('size of the matrix (n)')\n",
        "plt.ylabel('Avg pivots & probability of being full rank (%)')\n",
        "plt.title('size α rank plot')\n",
        "plt.legend([\"Avg rank\",\"singularity Probability\"])\n",
        "plt.grid(True)\n",
        "plt.show()\n",
        "\n",
        "\n",
        "# we can see as the n goes higher the chance of it being a full ranked matrix tends to 100%\n",
        "# because having a fully 0 row, or the same rows in a large matrix rarely happens and it's\n",
        "# expected for most of them to be full rank. Also the chance of singularity tends to 0 as it's\n",
        "# harder to have non-Fullrank matrices in higher ns, they're like two sides of the same coin."
      ]
    },
    {
      "cell_type": "markdown",
      "metadata": {
        "id": "fJ3Fs2dIlM7T"
      },
      "source": [
        "## 4. Application of Cholesky decomposition\n",
        "#### 4-1-  Cholesky decomposition\n",
        "In linear algebra, LU decomposition factors a matrix ($\\textbf{A} :n \\times n$) as the product of a lower triangular matrix ($\\textbf{L} :n \\times n$) and an upper triangular matrix ($\\textbf{U} :n \\times n$). The product sometimes includes a permutation matrix ($\\textbf{P} :n \\times n$) as well.\n",
        "$$ \\textbf{PA} = \\textbf{LU} $$\n",
        "We know that the elements on the main diagonal of the $\\textbf{U}$ are the pivots. So $\\textbf{U}$ can be decomposed into a diagonal matrix ($\\textbf{D} :n \\times n$) with elements whose pivots are on the main diagonal and a normalized $\\textbf{U}$ matrix.\n",
        "$$ \\textbf{PA} = \\textbf{LDU}  $$\n",
        "if the A is symmetric then we have the Cholesky decomposition :\n",
        "$$\n",
        "\\mathbf{A}^T=\\mathbf{A} \\longrightarrow \\mathbf{A} =LD^\\frac{1}{2}D^\\frac{1}{2} L^T= (LD^\\frac{1}{2})(LD^\\frac{1}{2})^T=L'{L'} ^T\n",
        "$$\n",
        "There are various methods for calculating the Cholesky decomposition one of them is $\\bold{Cholesky–Banachiewicz}$ algorithm :\n",
        "$$\n",
        "A=LL^T=\\begin{bmatrix}\n",
        "    L_{11}& 0 & 0\\\\\n",
        "    L_{21} & L_{22} & 0\\\\\n",
        "    L_{31}  & L_{32}  & L_{33}\n",
        "\\end{bmatrix}\\begin{bmatrix}\n",
        "    L_{11}  & L_{21}  & L_{31} \\\\\n",
        "    0  & L_{22}  & L_{32} \\\\\n",
        "    0 & 0 & L_{33}\n",
        "\\end{bmatrix}=\\begin{bmatrix}\n",
        "    L_{11}^2  &   & (symmetric) \\\\\n",
        "    L_{21}L_{11}  & L_{21}^2+L_{22}^2  &  \\\\\n",
        "    L_{31}L_{11}& L_{31}L_{21}+L_{32}L_{22}& L_{33}^2+L_{32}^2+L_{31}^2\n",
        "\\end{bmatrix}\n",
        "$$\n",
        "\n",
        "and therefore the following formulas for the entries of L:\n",
        "\n",
        "$$\n",
        "L_{jj}=\\sqrt{A_{jj}-\\sum_{k=1}^{j-1}L_{jk}^2} \\\\\n",
        "\\\\\n",
        "L_{i,j}=\\frac{\\left(A_{ij}-\\sum_{k=1}^{j-1}L_{jk}L_{ik}\\right)}{L_{jj}} \\  \\ for \\ \\ i>j\n",
        "$$\n",
        "\n",
        "> Use this algorithm to write a function that takes a matrix and gives its cholesky decomposition. also print the output for the following matrix :\n",
        "$$\n",
        "\\mathbf{C}=\n",
        "\\begin{bmatrix}\n",
        "    1 & 0.7 \\\\\n",
        "    0.7 & 1\n",
        "\\end{bmatrix}\n",
        "$$\n",
        "\n",
        "\n",
        "> then use np.linalg.cholesky to check your answer"
      ]
    },
    {
      "cell_type": "code",
      "execution_count": 120,
      "metadata": {
        "colab": {
          "base_uri": "https://localhost:8080/"
        },
        "id": "k2SZOG6WlM7T",
        "outputId": "452698d9-c9e4-48af-dcec-7280c435ad78"
      },
      "outputs": [
        {
          "output_type": "stream",
          "name": "stdout",
          "text": [
            "manuall Cholesky function:\n",
            "[[1.         0.        ]\n",
            " [0.7        0.71414284]]\n",
            "\n",
            "===================\n",
            "\n",
            "np Cholesky function:\n",
            "[[1.         0.        ]\n",
            " [0.7        0.71414284]]\n"
          ]
        }
      ],
      "source": [
        "# We define a zero matrix, so the upper triangle elements are already set.\n",
        "# for i>=j elements we use L_coeff function which is defined after Cholesky function\n",
        "\n",
        "def Cholesky(A):\n",
        "  size = len(A)\n",
        "  L = np.zeros([size,size])\n",
        "  for i in range(1,size+1):\n",
        "    for j in range(1,size+1):\n",
        "      if(i>=j):\n",
        "        L[i-1][j-1] = L_coeff(A,i,j)\n",
        "\n",
        "  return L\n",
        "\n",
        "\n",
        "\n",
        "# As the given formulas are recursive themselves we use the same strat here to\n",
        "# calculate desired coefficients.\n",
        "def L_coeff(A,i,j):\n",
        "\n",
        "  summation = 0\n",
        "  answer = 0\n",
        "\n",
        "  if(i==j):\n",
        "    for k in range(1,j):\n",
        "      summation += L_coeff(A,j,k)**2\n",
        "    answer = math.sqrt(A[j-1][j-1] - summation)\n",
        "    #As matrix elements start from 0 we have to use j-1 & i-1\n",
        "\n",
        "  else:\n",
        "    for k in range(1,j):\n",
        "      summation += L_coeff(A,j,k) * L_coeff(A,i,k)\n",
        "    answer = (A[i-1][j-1] - summation) / L_coeff(A,j,j)\n",
        "\n",
        "  return answer\n",
        "\n",
        "\n",
        "\n",
        "\n",
        "C = [[1 , 0.7],\n",
        "     [0.7, 1]]\n",
        "\n",
        "print(\"manuall Cholesky function:\")\n",
        "print(Cholesky(C))\n",
        "\n",
        "print(\"\\n===================\\n\")\n",
        "\n",
        "print(\"np Cholesky function:\")\n",
        "print(np.linalg.cholesky(C))\n"
      ]
    },
    {
      "cell_type": "markdown",
      "metadata": {
        "id": "CMlaPuZTlM7T"
      },
      "source": [
        "#### 4-2-  Using Cholesky to generate correlated random numbers\n",
        "\n",
        "The co-variance Matrix of any random vector Y\n",
        " is given as $\\mathbf{E}(YY^T)$\n",
        ", where Y\n",
        " is a random column vector of size n×1\n",
        ". Now take a random vector, X\n",
        ", consisting of uncorrelated random variables with each random variable, $X_i$\n",
        ", having zero mean and unit variance 1\n",
        ". Since $X_i$\n",
        "'s are uncorrelated random variables with zero mean and unit variance, we have $\\mathbf{E}(X_i X_j^T)=δ_{ij}$\n",
        ". Hence,\n",
        "$$\n",
        "\\mathbf{E}(XX^T)=I\n",
        "$$\n",
        "To generate a random vector with a given covariance matrix $\\mathbf{C}$\n",
        ", look at the Cholesky decomposition of $C$\n",
        " i.e. $\\mathbf{C}=LL^T$\n",
        "\n",
        "Now look at the random vector $Z=LX$ :\n",
        "$$\n",
        "\\mathbf{E}(ZZ^T)=\\mathbf{E}\\left((LX)(LX)^T\\right)=L\\mathbf{E}(XX^T)L^T =LL^T=\\mathbf{C}\n",
        "$$\n",
        "Hence, the random vector $\\mathbf{Z}$\n",
        " has the desired co-variance matrix, $\\mathbf{C}$\n",
        "\n",
        " >Make the covarience matirx of $C$\n",
        "  $$\n",
        "\\mathbf{C}=\n",
        "\\begin{bmatrix}\n",
        "    1 & 0.7 \\\\\n",
        "    0.7 & 1\n",
        "\\end{bmatrix}\n",
        "$$\n",
        "\n",
        "\n",
        " >Then we need another matrix with the desired standard deviation in the diagonal  $\\Tau$\n",
        " $$\n",
        "\\mathbf{\\Tau}=\n",
        "\\begin{bmatrix}\n",
        "    1 & 0 \\\\\n",
        "    0 & 2\n",
        "\\end{bmatrix}\n",
        "$$\n",
        ">Then find the cholesky decomposition of $C$\n"
      ]
    },
    {
      "cell_type": "code",
      "execution_count": 121,
      "metadata": {
        "colab": {
          "base_uri": "https://localhost:8080/"
        },
        "id": "zrhh4I_llM7U",
        "outputId": "d170844a-bed9-4806-df2a-088e12d1fd5b"
      },
      "outputs": [
        {
          "output_type": "stream",
          "name": "stdout",
          "text": [
            "[[1.         0.        ]\n",
            " [0.7        0.71414284]]\n"
          ]
        }
      ],
      "source": [
        "C = [[1, 0.7],\n",
        "     [0.7, 1]]\n",
        "\n",
        "\n",
        "L = Cholesky(C)\n",
        "print(L)"
      ]
    },
    {
      "cell_type": "markdown",
      "metadata": {
        "id": "93YzIS8IlM7U"
      },
      "source": [
        ">Now  generate values for 2 independent random variables and put them in  2*1000 matrix $X$ (1000 samples)\n",
        "\n",
        "you can use np.random.normal ( generates iid random variables each time )"
      ]
    },
    {
      "cell_type": "code",
      "execution_count": 122,
      "metadata": {
        "id": "v7LWBr5LlM7U"
      },
      "outputs": [],
      "source": [
        "mu, sigma = 0, 1\n",
        "X = np.random.normal(mu, sigma, 2000).reshape(2,1000)"
      ]
    },
    {
      "cell_type": "markdown",
      "metadata": {
        "id": "IVsdhR-MlM7U"
      },
      "source": [
        ">then calculate $\\mathbf{Z}=\\Tau L X$ and then plot Z[1] in base of Z[0] and X[1] in base of X[0]"
      ]
    },
    {
      "cell_type": "code",
      "execution_count": 123,
      "metadata": {
        "colab": {
          "base_uri": "https://localhost:8080/",
          "height": 407
        },
        "id": "SC8mC6KflM7U",
        "outputId": "7d49933b-b3b9-4623-8b3b-2fe760af6232"
      },
      "outputs": [
        {
          "output_type": "display_data",
          "data": {
            "text/plain": [
              "<Figure size 800x400 with 2 Axes>"
            ],
            "image/png": "[encoded data removed]"
          },
          "metadata": {}
        }
      ],
      "source": [
        "tau = [[1, 0],\n",
        "       [0, 2]]\n",
        "\n",
        "\n",
        "Z = np.dot(np.dot(tau,L) , X)\n",
        "\n",
        "fig, ax = plt.subplots(1, 2, figsize=(8, 4))\n",
        "\n",
        "ax[0].scatter(Z[0], Z[1], s=3)\n",
        "ax[0].set_xlabel('Z[0]')\n",
        "ax[0].set_ylabel('Z[1]')\n",
        "\n",
        "ax[1].scatter(X[0], X[1], s=3, c='g')\n",
        "ax[1].set_xlabel('X[0]')\n",
        "ax[1].set_ylabel('X[1]')\n",
        "\n",
        "plt.tight_layout()\n",
        "plt.show()"
      ]
    },
    {
      "cell_type": "markdown",
      "metadata": {
        "id": "4BZBYBu0lM7U"
      },
      "source": [
        ">now  check the correlation in generated samples with using np.correlate"
      ]
    },
    {
      "cell_type": "code",
      "execution_count": 125,
      "metadata": {
        "colab": {
          "base_uri": "https://localhost:8080/"
        },
        "id": "qCAjyhJClM7U",
        "outputId": "c9d534e2-e364-49ff-ccfd-ab21e0fbf2ea"
      },
      "outputs": [
        {
          "output_type": "stream",
          "name": "stdout",
          "text": [
            "[1465.7190396]\n"
          ]
        }
      ],
      "source": [
        "print(np.correlate(Z[0],Z[1]))"
      ]
    },
    {
      "cell_type": "markdown",
      "metadata": {
        "id": "e97M4ElYlM7V"
      },
      "source": [
        "## 5. Graphs (bonus)\n",
        "\n",
        "I suggest running this question's code cells in google colab to install the $\\textbf{PyGSP}$ package by  simply running the following code cell"
      ]
    },
    {
      "cell_type": "code",
      "execution_count": 14,
      "metadata": {
        "id": "_qa23JMDlM7V",
        "colab": {
          "base_uri": "https://localhost:8080/"
        },
        "outputId": "afcaad11-5611-49cb-8425-d28ff1a5824e"
      },
      "outputs": [
        {
          "output_type": "stream",
          "name": "stdout",
          "text": [
            "Collecting pygsp\n",
            "  Downloading PyGSP-0.5.1-py2.py3-none-any.whl (1.8 MB)\n",
            "\u001b[2K     \u001b[90m━━━━━━━━━━━━━━━━━━━━━━━━━━━━━━━━━━━━━━━━\u001b[0m \u001b[32m1.8/1.8 MB\u001b[0m \u001b[31m9.4 MB/s\u001b[0m eta \u001b[36m0:00:00\u001b[0m\n",
            "\u001b[?25hRequirement already satisfied: numpy in /usr/local/lib/python3.10/dist-packages (from pygsp) (1.23.5)\n",
            "Requirement already satisfied: scipy in /usr/local/lib/python3.10/dist-packages (from pygsp) (1.11.3)\n",
            "Installing collected packages: pygsp\n",
            "Successfully installed pygsp-0.5.1\n"
          ]
        }
      ],
      "source": [
        "!pip install pygsp"
      ]
    },
    {
      "cell_type": "markdown",
      "metadata": {
        "id": "vbf0QJm6lM7V"
      },
      "source": [
        "# New Section\n",
        "<!-- ![]( graph.png) -->\n",
        "<div style=\"text-align:center\">\n",
        "    <img src=\"graph.png\" alt=\"Image\" />\n",
        "</div>\n",
        "\n",
        "\n",
        "For the directed graph above the adjacency matrix is :\n",
        "$\n",
        "A = \\begin{bmatrix}\n",
        "    0  & 1  & 1 & 0\\\\\n",
        "    -1  & 0  & 1 & 1 \\\\\n",
        "    -1 & -1 & 0 & 1 \\\\\n",
        "    0  & -1  & -1 & 0\n",
        "\\end{bmatrix}\n",
        "$\n",
        "\n",
        "If we change the nodes numbering, the properties of the graph don't change yet the adjacency matrix changes.\n"
      ]
    },
    {
      "cell_type": "code",
      "execution_count": 169,
      "metadata": {
        "id": "ybS-l-o8lM7V"
      },
      "outputs": [],
      "source": [
        "# import required packages\n",
        "import numpy as np\n",
        "import matplotlib.pyplot as plt\n",
        "from pygsp import graphs, filters, plotting\n",
        "import cv2\n",
        "\n",
        "# cv2.imshow crashes in google colab so we have to use cv2_imshow:\n",
        "from google.colab.patches import cv2_imshow"
      ]
    },
    {
      "cell_type": "markdown",
      "metadata": {
        "id": "kFEfGqdglM7V"
      },
      "source": [
        "\n",
        "#### 5-1-  Introduction to graphs\n",
        ">construct the permutation matrix $\\textbf{P}$ by modifying the Identity matrix. then use it to number the graph's nodes in reverse order"
      ]
    },
    {
      "cell_type": "code",
      "execution_count": 180,
      "metadata": {
        "id": "Rp2fVrGFlM7V",
        "colab": {
          "base_uri": "https://localhost:8080/"
        },
        "outputId": "e35e6964-919b-484f-b892-c2c6a5d8434b"
      },
      "outputs": [
        {
          "output_type": "stream",
          "name": "stdout",
          "text": [
            "[[ 0 -1 -1  0]\n",
            " [ 1  0 -1 -1]\n",
            " [ 1  1  0 -1]\n",
            " [ 0  1  1  0]]\n"
          ]
        }
      ],
      "source": [
        "A = [[ 0, 1, 1, 0],\n",
        "     [-1, 0, 1, 1],\n",
        "     [-1,-1, 0, 1],\n",
        "     [ 0,-1,-1, 0]]\n",
        "\n",
        "\n",
        "def P(a,b):\n",
        "  a -= 1\n",
        "  b -= 1\n",
        "  I = np.identity(4,dtype=int)\n",
        "  I_clone = np.copy(I)\n",
        "  temp = I_clone[a]\n",
        "  I[a] = I[b]\n",
        "  I[b] = I_clone[a]\n",
        "  return I\n",
        "\n",
        "A = np.dot(P(1,4),A)\n",
        "A = np.dot(P(2,3),A)\n",
        "A = np.dot(A,P(1,4))\n",
        "A = np.dot(A,P(2,3))\n",
        "\n",
        "\n",
        "A_modified = A\n",
        "print(A_modified)"
      ]
    },
    {
      "cell_type": "code",
      "execution_count": 183,
      "metadata": {
        "id": "cf1PzHOWlM7W"
      },
      "outputs": [],
      "source": [
        "# Evaluation Cell\n",
        "assert (A_modified == np.matrix('0 -1 -1 0; 1 0 -1 -1; 1 1 0 -1; 0 1 1 0')).all, \"wrong!\""
      ]
    },
    {
      "cell_type": "markdown",
      "metadata": {
        "id": "VyqxOTPglM7W"
      },
      "source": [
        "#### 5-2-  Graph image processing  \n",
        "\n",
        "Inpainting is a classical signal processing problem where we wish to fill in the missing values in a\n",
        "partially observed signal. This is here done in the context of image processing for inferring missing pixel values in\n",
        "an image. The signal in the image is considered to be the image matrix flattened while the image is modeled as a 2D grid graph.\n",
        "Inpainting for an image can be formulated as below:\n",
        "\n",
        "$$(M + \\alpha L)x = y$$\n",
        "\n",
        "where y is a partially observed graph signal (with missing values being 0), and M is a diagonal matrix that satisfies:\n",
        " $$ M(i, i)=   \\left\\{\n",
        "\\begin{array}{ll}\n",
        "      1, & if & y(i) & is & observed, \\\\\n",
        "      0, & if & y(i) & is & not & observed, \\\\\n",
        "\\end{array}\n",
        "\\right.  $$\n",
        "\n",
        "The Equation tries to find an x that nearly matches the observed values in y, and at the same time\n",
        "being smooth on the graph (the image here). The regularisation parameter α controls the trade-off between the data fidelity term and the\n",
        "smoothness prior. The solution can therefore be considered as an inpainted version of the partially observed signal."
      ]
    },
    {
      "cell_type": "markdown",
      "metadata": {
        "id": "IXtVEymjlM7W"
      },
      "source": [
        ">Use the cv2 package to load a grayscale version of the cameraman image with a relatively low resolution, 64 by 64, then display the image using matplotlib.pyplot\n",
        "\n",
        "- do not forget to convert RGB to gray to reduce the 3 color channels to one"
      ]
    },
    {
      "cell_type": "code",
      "execution_count": 206,
      "metadata": {
        "id": "lDOxBZbzlM7a",
        "colab": {
          "base_uri": "https://localhost:8080/",
          "height": 116
        },
        "outputId": "146533ee-a0b9-4061-de35-b88d97b78103"
      },
      "outputs": [
        {
          "output_type": "stream",
          "name": "stdout",
          "text": [
            "we can see that the image has only 1 channel now:\n",
            "(64, 64)\n"
          ]
        },
        {
          "output_type": "display_data",
          "data": {
            "text/plain": [
              "<PIL.Image.Image image mode=L size=64x64>"
            ],
            "image/png": "[encoded data removed]"
          },
          "metadata": {}
        }
      ],
      "source": [
        "image = cv2.imread(\"cameraman.jpg\")\n",
        "image = cv2.cvtColor(image, cv2.COLOR_BGR2GRAY)\n",
        "image = cv2.resize(image , (64,64))\n",
        "print(\"we can see that the image has only 1 channel now:\")\n",
        "print(image.shape)\n",
        "cv2_imshow(image)"
      ]
    },
    {
      "cell_type": "markdown",
      "metadata": {
        "id": "nSRa2ftUlM7a"
      },
      "source": [
        ">Now flatten the image matrix to get the signal\\\n",
        ">Then, construct the diagonal matrix M which has its diagonal 0 except for $p = 50%$ of its elements that are randomly set to 1\\\n",
        ">At last, apply the observasion matrix M to the signal and construct y"
      ]
    },
    {
      "cell_type": "code",
      "execution_count": 229,
      "metadata": {
        "id": "hxCxW6_3lM7b",
        "colab": {
          "base_uri": "https://localhost:8080/"
        },
        "outputId": "9a1c1cb9-129b-4752-df4e-61a0761873f5"
      },
      "outputs": [
        {
          "output_type": "stream",
          "name": "stdout",
          "text": [
            "We can see from the shape that the image is flatten now : (4096,)\n"
          ]
        }
      ],
      "source": [
        "flatten_image = image.flatten() #could also use reshape(-1)\n",
        "print(f\"We can see from the shape that the image is flatten now : {flatten_image.shape}\")\n",
        "\n",
        "p = 0.5  #(50/100)\n",
        "n = flatten_image.shape[0]\n",
        "M = np.zeros((n,n))\n",
        "\n",
        "# Then using random method of numpy we choose a random sample with size of n*p\n",
        "# and make those indices in M equal to 1\n",
        "# finnaly we apply it to our flatter image\n",
        "indices = np.random.randint(n, size=int(n*p))\n",
        "M[indices,indices] = 1\n",
        "y = M @ flatten_image\n"
      ]
    },
    {
      "cell_type": "code",
      "execution_count": 230,
      "metadata": {
        "id": "PQvLkFKZlM7b"
      },
      "outputs": [],
      "source": [
        "# do not edit this cell\n",
        "G = graphs.Grid2d(64,64)\n",
        "L = G.L"
      ]
    },
    {
      "cell_type": "markdown",
      "metadata": {
        "id": "dQFaEfzAlM7b"
      },
      "source": [
        ">To get x, apply the $\\textbf{Cholesky decomposition}$ to ( $M+\\alpha L$ ) and then solve the stated equation applying np.linalg.inv() to the two terms multiplied by x ( note that L is given by the code cell above )\n",
        "- check the soloution with \"np.linalg.solve()\""
      ]
    },
    {
      "cell_type": "code",
      "execution_count": 239,
      "metadata": {
        "id": "jw4fSut7lM7b",
        "colab": {
          "base_uri": "https://localhost:8080/"
        },
        "outputId": "717d2660-0748-4716-9ac1-51675613e6ad"
      },
      "outputs": [
        {
          "output_type": "stream",
          "name": "stdout",
          "text": [
            "[[157.83506665]\n",
            " [158.01684565]\n",
            " [158.27520117]\n",
            " ...\n",
            " [119.92712338]\n",
            " [114.21670142]\n",
            " [110.19396447]]\n",
            "\n",
            "======VS======\n",
            "\n",
            "[157.83506665 158.01684565 158.27520117 ... 119.92712338 114.21670142\n",
            " 110.19396447]\n"
          ]
        }
      ],
      "source": [
        "# we make our solver then compare it to the linalg.solve\n",
        "\n",
        "def solver(alpha,L,M):\n",
        "  C = np.linalg.cholesky(M + alpha*L)\n",
        "  x = np.matmul(np.linalg.inv(C.transpose()) , np.matmul(np.linalg.inv(C) , y).transpose())\n",
        "  return x\n",
        "\n",
        "\n",
        "alpha = 0.1\n",
        "x = solver(alpha , L , M)\n",
        "x_direct = np.linalg.solve(M + alpha*L, y)\n",
        "\n",
        "print(x)\n",
        "print(\"\\n======VS======\\n\")\n",
        "print(x_direct)"
      ]
    },
    {
      "cell_type": "markdown",
      "metadata": {
        "id": "hkw-oQHclM7b"
      },
      "source": [
        ">For values of alpha 0.001 , 0.1 , 10 and p values 50 , 75 display the original, the damaged and the Inpainted image in subplot"
      ]
    },
    {
      "cell_type": "code",
      "execution_count": null,
      "metadata": {
        "id": "j9pQzPQclM7b"
      },
      "outputs": [],
      "source": [
        "# I ran out of time to plot them 😭, the actuall part where it gets interesting :((("
      ]
    }
  ],
  "metadata": {
    "colab": {
      "provenance": []
    },
    "kernelspec": {
      "display_name": "base",
      "language": "python",
      "name": "python3"
    },
    "language_info": {
      "codemirror_mode": {
        "name": "ipython",
        "version": 3
      },
      "file_extension": ".py",
      "mimetype": "text/x-python",
      "name": "python",
      "nbconvert_exporter": "python",
      "pygments_lexer": "ipython3",
      "version": "3.11.1"
    },
    "vscode": {
      "interpreter": {
        "hash": "a552c2ea7a7b6736ba4a8b66efcb40eda8d77c5e9d980e5b81f29aecaaefb085"
      }
    }
  },
  "nbformat": 4,
  "nbformat_minor": 0
}